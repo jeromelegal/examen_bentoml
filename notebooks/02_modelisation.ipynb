{
 "cells": [
  {
   "cell_type": "markdown",
   "id": "b23f66af",
   "metadata": {},
   "source": [
    "# Modélisation :"
   ]
  },
  {
   "cell_type": "markdown",
   "id": "2df20e18",
   "metadata": {},
   "source": []
  },
  {
   "cell_type": "code",
   "execution_count": 2,
   "id": "8413e23e",
   "metadata": {},
   "outputs": [
    {
     "name": "stderr",
     "output_type": "stream",
     "text": [
      "/home/garth/anaconda3/envs/bentoml-env/lib/python3.11/site-packages/xgboost/core.py:377: FutureWarning: Your system has an old version of glibc (< 2.28). We will stop supporting Linux distros with glibc older than 2.28 after **May 31, 2025**. Please upgrade to a recent Linux distro (with glibc >= 2.28) to use future versions of XGBoost.\n",
      "Note: You have installed the 'manylinux2014' variant of XGBoost. Certain features such as GPU algorithms or federated learning are not available. To use these features, please upgrade to a recent Linux distro with glibc 2.28+, and install the 'manylinux_2_28' variant.\n",
      "  warnings.warn(\n"
     ]
    }
   ],
   "source": [
    "import pandas as pd\n",
    "import os\n",
    "from sklearn.linear_model import LinearRegression, Ridge, Lasso\n",
    "from sklearn.ensemble import RandomForestRegressor\n",
    "from sklearn.model_selection import cross_validate, KFold\n",
    "from sklearn.metrics import make_scorer, mean_squared_error, r2_score\n",
    "from xgboost import XGBRegressor"
   ]
  },
  {
   "cell_type": "code",
   "execution_count": 31,
   "id": "0a954dcf",
   "metadata": {},
   "outputs": [],
   "source": [
    "processed_path = os.path.join(\"..\", \"data\", \"processed/\")"
   ]
  },
  {
   "cell_type": "code",
   "execution_count": 32,
   "id": "bd8219a2",
   "metadata": {},
   "outputs": [],
   "source": [
    "X_train = pd.read_csv(processed_path + 'X_train.csv')\n",
    "X_test = pd.read_csv(processed_path + 'X_test.csv')\n",
    "y_train = pd.read_csv(processed_path + 'y_train.csv')\n",
    "y_test = pd.read_csv(processed_path + 'y_test.csv')"
   ]
  },
  {
   "cell_type": "code",
   "execution_count": 33,
   "id": "6a297ad7",
   "metadata": {},
   "outputs": [],
   "source": [
    "cv = KFold(n_splits=5, shuffle=True, random_state=42)"
   ]
  },
  {
   "cell_type": "code",
   "execution_count": 34,
   "id": "38ae4047",
   "metadata": {},
   "outputs": [],
   "source": [
    "lr = LinearRegression()\n",
    "rf = RandomForestRegressor(n_estimators=500)\n",
    "ridge = Ridge(alpha=1.0)\n",
    "lasso = Lasso(alpha=1.0)"
   ]
  },
  {
   "cell_type": "code",
   "execution_count": 35,
   "id": "6408273f",
   "metadata": {},
   "outputs": [],
   "source": [
    "scoring = {\n",
    "    \"r2\": \"r2\",\n",
    "    \"rmse\": make_scorer(mean_squared_error, greater_is_better=False),\n",
    "    \"mae\": \"neg_mean_absolute_error\",\n",
    "}"
   ]
  },
  {
   "cell_type": "code",
   "execution_count": 36,
   "id": "7ac15242",
   "metadata": {},
   "outputs": [],
   "source": [
    "def compute_model_score(model, X, y):\n",
    "    # computing cross val\n",
    "    cross_validation = cross_validate(\n",
    "        model,\n",
    "        X,\n",
    "        y,\n",
    "        cv=cv,\n",
    "        scoring=scoring,\n",
    "        n_jobs=-1,\n",
    "        )\n",
    "    df = pd.DataFrame({\n",
    "        \"r2\":  cross_validation[\"test_r2\"],               \n",
    "        \"rmse\": -cross_validation[\"test_rmse\"],     \n",
    "        \"mae\":  -cross_validation[\"test_mae\"], \n",
    "    })\n",
    "    print(f\"Mean R² : {df.r2.mean()}\")\n",
    "    print(f\"Mean rmse : {df.rmse.mean()}\")\n",
    "    print(f\"Mean mae : {df.mae.mean()}\")\n",
    "    return df"
   ]
  },
  {
   "cell_type": "code",
   "execution_count": 37,
   "id": "f624f912",
   "metadata": {},
   "outputs": [
    {
     "name": "stdout",
     "output_type": "stream",
     "text": [
      "Mean R² : 0.9099691087765691\n",
      "Mean rmse : 0.001763844818500241\n",
      "Mean mae : 0.021717624745193974\n"
     ]
    },
    {
     "data": {
      "text/html": [
       "<div>\n",
       "<style scoped>\n",
       "    .dataframe tbody tr th:only-of-type {\n",
       "        vertical-align: middle;\n",
       "    }\n",
       "\n",
       "    .dataframe tbody tr th {\n",
       "        vertical-align: top;\n",
       "    }\n",
       "\n",
       "    .dataframe thead th {\n",
       "        text-align: right;\n",
       "    }\n",
       "</style>\n",
       "<table border=\"1\" class=\"dataframe\">\n",
       "  <thead>\n",
       "    <tr style=\"text-align: right;\">\n",
       "      <th></th>\n",
       "      <th>r2</th>\n",
       "      <th>rmse</th>\n",
       "      <th>mae</th>\n",
       "    </tr>\n",
       "  </thead>\n",
       "  <tbody>\n",
       "    <tr>\n",
       "      <th>0</th>\n",
       "      <td>0.916042</td>\n",
       "      <td>0.001338</td>\n",
       "      <td>0.019315</td>\n",
       "    </tr>\n",
       "    <tr>\n",
       "      <th>1</th>\n",
       "      <td>0.909283</td>\n",
       "      <td>0.001649</td>\n",
       "      <td>0.020709</td>\n",
       "    </tr>\n",
       "    <tr>\n",
       "      <th>2</th>\n",
       "      <td>0.870431</td>\n",
       "      <td>0.002782</td>\n",
       "      <td>0.027837</td>\n",
       "    </tr>\n",
       "    <tr>\n",
       "      <th>3</th>\n",
       "      <td>0.920630</td>\n",
       "      <td>0.001581</td>\n",
       "      <td>0.021046</td>\n",
       "    </tr>\n",
       "    <tr>\n",
       "      <th>4</th>\n",
       "      <td>0.933459</td>\n",
       "      <td>0.001469</td>\n",
       "      <td>0.019681</td>\n",
       "    </tr>\n",
       "  </tbody>\n",
       "</table>\n",
       "</div>"
      ],
      "text/plain": [
       "         r2      rmse       mae\n",
       "0  0.916042  0.001338  0.019315\n",
       "1  0.909283  0.001649  0.020709\n",
       "2  0.870431  0.002782  0.027837\n",
       "3  0.920630  0.001581  0.021046\n",
       "4  0.933459  0.001469  0.019681"
      ]
     },
     "execution_count": 37,
     "metadata": {},
     "output_type": "execute_result"
    }
   ],
   "source": [
    "compute_model_score(lr, X_train, y_train)"
   ]
  },
  {
   "cell_type": "code",
   "execution_count": 38,
   "id": "a35e7f3b",
   "metadata": {},
   "outputs": [
    {
     "name": "stdout",
     "output_type": "stream",
     "text": [
      "Mean R² : 0.8426348620301912\n",
      "Mean rmse : 0.8558215791405008\n",
      "Mean mae : 0.48976432500000017\n"
     ]
    },
    {
     "data": {
      "text/html": [
       "<div>\n",
       "<style scoped>\n",
       "    .dataframe tbody tr th:only-of-type {\n",
       "        vertical-align: middle;\n",
       "    }\n",
       "\n",
       "    .dataframe tbody tr th {\n",
       "        vertical-align: top;\n",
       "    }\n",
       "\n",
       "    .dataframe thead th {\n",
       "        text-align: right;\n",
       "    }\n",
       "</style>\n",
       "<table border=\"1\" class=\"dataframe\">\n",
       "  <thead>\n",
       "    <tr style=\"text-align: right;\">\n",
       "      <th></th>\n",
       "      <th>r2</th>\n",
       "      <th>rmse</th>\n",
       "      <th>mae</th>\n",
       "    </tr>\n",
       "  </thead>\n",
       "  <tbody>\n",
       "    <tr>\n",
       "      <th>0</th>\n",
       "      <td>0.837224</td>\n",
       "      <td>1.391598</td>\n",
       "      <td>0.554916</td>\n",
       "    </tr>\n",
       "    <tr>\n",
       "      <th>1</th>\n",
       "      <td>0.878875</td>\n",
       "      <td>0.921791</td>\n",
       "      <td>0.535125</td>\n",
       "    </tr>\n",
       "    <tr>\n",
       "      <th>2</th>\n",
       "      <td>0.809348</td>\n",
       "      <td>0.549095</td>\n",
       "      <td>0.393842</td>\n",
       "    </tr>\n",
       "    <tr>\n",
       "      <th>3</th>\n",
       "      <td>0.844963</td>\n",
       "      <td>0.720013</td>\n",
       "      <td>0.487746</td>\n",
       "    </tr>\n",
       "    <tr>\n",
       "      <th>4</th>\n",
       "      <td>0.842765</td>\n",
       "      <td>0.696610</td>\n",
       "      <td>0.477192</td>\n",
       "    </tr>\n",
       "  </tbody>\n",
       "</table>\n",
       "</div>"
      ],
      "text/plain": [
       "         r2      rmse       mae\n",
       "0  0.837224  1.391598  0.554916\n",
       "1  0.878875  0.921791  0.535125\n",
       "2  0.809348  0.549095  0.393842\n",
       "3  0.844963  0.720013  0.487746\n",
       "4  0.842765  0.696610  0.477192"
      ]
     },
     "execution_count": 38,
     "metadata": {},
     "output_type": "execute_result"
    }
   ],
   "source": [
    "compute_model_score(rf, X_train, y_train)"
   ]
  },
  {
   "cell_type": "code",
   "execution_count": 39,
   "id": "6912c01f",
   "metadata": {},
   "outputs": [
    {
     "name": "stdout",
     "output_type": "stream",
     "text": [
      "Mean R² : 0.9100013045137221\n",
      "Mean rmse : 0.0017632764103179652\n",
      "Mean mae : 0.02171420487212599\n"
     ]
    },
    {
     "data": {
      "text/html": [
       "<div>\n",
       "<style scoped>\n",
       "    .dataframe tbody tr th:only-of-type {\n",
       "        vertical-align: middle;\n",
       "    }\n",
       "\n",
       "    .dataframe tbody tr th {\n",
       "        vertical-align: top;\n",
       "    }\n",
       "\n",
       "    .dataframe thead th {\n",
       "        text-align: right;\n",
       "    }\n",
       "</style>\n",
       "<table border=\"1\" class=\"dataframe\">\n",
       "  <thead>\n",
       "    <tr style=\"text-align: right;\">\n",
       "      <th></th>\n",
       "      <th>r2</th>\n",
       "      <th>rmse</th>\n",
       "      <th>mae</th>\n",
       "    </tr>\n",
       "  </thead>\n",
       "  <tbody>\n",
       "    <tr>\n",
       "      <th>0</th>\n",
       "      <td>0.916091</td>\n",
       "      <td>0.001337</td>\n",
       "      <td>0.019332</td>\n",
       "    </tr>\n",
       "    <tr>\n",
       "      <th>1</th>\n",
       "      <td>0.909303</td>\n",
       "      <td>0.001649</td>\n",
       "      <td>0.020701</td>\n",
       "    </tr>\n",
       "    <tr>\n",
       "      <th>2</th>\n",
       "      <td>0.870365</td>\n",
       "      <td>0.002783</td>\n",
       "      <td>0.027830</td>\n",
       "    </tr>\n",
       "    <tr>\n",
       "      <th>3</th>\n",
       "      <td>0.920802</td>\n",
       "      <td>0.001578</td>\n",
       "      <td>0.021019</td>\n",
       "    </tr>\n",
       "    <tr>\n",
       "      <th>4</th>\n",
       "      <td>0.933445</td>\n",
       "      <td>0.001469</td>\n",
       "      <td>0.019690</td>\n",
       "    </tr>\n",
       "  </tbody>\n",
       "</table>\n",
       "</div>"
      ],
      "text/plain": [
       "         r2      rmse       mae\n",
       "0  0.916091  0.001337  0.019332\n",
       "1  0.909303  0.001649  0.020701\n",
       "2  0.870365  0.002783  0.027830\n",
       "3  0.920802  0.001578  0.021019\n",
       "4  0.933445  0.001469  0.019690"
      ]
     },
     "execution_count": 39,
     "metadata": {},
     "output_type": "execute_result"
    }
   ],
   "source": [
    "compute_model_score(ridge, X_train, y_train)"
   ]
  },
  {
   "cell_type": "code",
   "execution_count": 40,
   "id": "80186f53",
   "metadata": {},
   "outputs": [
    {
     "name": "stdout",
     "output_type": "stream",
     "text": [
      "Mean R² : 0.49255063267909394\n",
      "Mean rmse : 0.009937443695340473\n",
      "Mean mae : 0.05989832891090004\n"
     ]
    },
    {
     "data": {
      "text/html": [
       "<div>\n",
       "<style scoped>\n",
       "    .dataframe tbody tr th:only-of-type {\n",
       "        vertical-align: middle;\n",
       "    }\n",
       "\n",
       "    .dataframe tbody tr th {\n",
       "        vertical-align: top;\n",
       "    }\n",
       "\n",
       "    .dataframe thead th {\n",
       "        text-align: right;\n",
       "    }\n",
       "</style>\n",
       "<table border=\"1\" class=\"dataframe\">\n",
       "  <thead>\n",
       "    <tr style=\"text-align: right;\">\n",
       "      <th></th>\n",
       "      <th>r2</th>\n",
       "      <th>rmse</th>\n",
       "      <th>mae</th>\n",
       "    </tr>\n",
       "  </thead>\n",
       "  <tbody>\n",
       "    <tr>\n",
       "      <th>0</th>\n",
       "      <td>0.499371</td>\n",
       "      <td>0.008005</td>\n",
       "      <td>0.051160</td>\n",
       "    </tr>\n",
       "    <tr>\n",
       "      <th>1</th>\n",
       "      <td>0.499992</td>\n",
       "      <td>0.009114</td>\n",
       "      <td>0.058723</td>\n",
       "    </tr>\n",
       "    <tr>\n",
       "      <th>2</th>\n",
       "      <td>0.483876</td>\n",
       "      <td>0.011113</td>\n",
       "      <td>0.064603</td>\n",
       "    </tr>\n",
       "    <tr>\n",
       "      <th>3</th>\n",
       "      <td>0.480456</td>\n",
       "      <td>0.010377</td>\n",
       "      <td>0.061452</td>\n",
       "    </tr>\n",
       "    <tr>\n",
       "      <th>4</th>\n",
       "      <td>0.499058</td>\n",
       "      <td>0.011078</td>\n",
       "      <td>0.063554</td>\n",
       "    </tr>\n",
       "  </tbody>\n",
       "</table>\n",
       "</div>"
      ],
      "text/plain": [
       "         r2      rmse       mae\n",
       "0  0.499371  0.008005  0.051160\n",
       "1  0.499992  0.009114  0.058723\n",
       "2  0.483876  0.011113  0.064603\n",
       "3  0.480456  0.010377  0.061452\n",
       "4  0.499058  0.011078  0.063554"
      ]
     },
     "execution_count": 40,
     "metadata": {},
     "output_type": "execute_result"
    }
   ],
   "source": [
    "compute_model_score(lasso, X_train, y_train)"
   ]
  },
  {
   "cell_type": "code",
   "execution_count": 41,
   "id": "3452f121",
   "metadata": {},
   "outputs": [],
   "source": [
    "params = {\n",
    "    'objective': 'reg:squarederror',\n",
    "    'max_depth': 5,\n",
    "    'learning_rate': 0.2,\n",
    "    'n_estimators': 300,\n",
    "    'subsample': 0.8,\n",
    "    'colsample_bytree': 0.8,\n",
    "    'random_state': 42\n",
    "}\n",
    "\n",
    "xgb = XGBRegressor(**params)"
   ]
  },
  {
   "cell_type": "code",
   "execution_count": 42,
   "id": "e37b12d2",
   "metadata": {},
   "outputs": [
    {
     "name": "stdout",
     "output_type": "stream",
     "text": [
      "Mean R² : 0.9176501154899597\n",
      "Mean rmse : 168.84745178222656\n",
      "Mean mae : 6.584983062744141\n"
     ]
    },
    {
     "data": {
      "text/html": [
       "<div>\n",
       "<style scoped>\n",
       "    .dataframe tbody tr th:only-of-type {\n",
       "        vertical-align: middle;\n",
       "    }\n",
       "\n",
       "    .dataframe tbody tr th {\n",
       "        vertical-align: top;\n",
       "    }\n",
       "\n",
       "    .dataframe thead th {\n",
       "        text-align: right;\n",
       "    }\n",
       "</style>\n",
       "<table border=\"1\" class=\"dataframe\">\n",
       "  <thead>\n",
       "    <tr style=\"text-align: right;\">\n",
       "      <th></th>\n",
       "      <th>r2</th>\n",
       "      <th>rmse</th>\n",
       "      <th>mae</th>\n",
       "    </tr>\n",
       "  </thead>\n",
       "  <tbody>\n",
       "    <tr>\n",
       "      <th>0</th>\n",
       "      <td>0.912057</td>\n",
       "      <td>159.574326</td>\n",
       "      <td>6.375999</td>\n",
       "    </tr>\n",
       "    <tr>\n",
       "      <th>1</th>\n",
       "      <td>0.924542</td>\n",
       "      <td>165.498444</td>\n",
       "      <td>6.509373</td>\n",
       "    </tr>\n",
       "    <tr>\n",
       "      <th>2</th>\n",
       "      <td>0.898632</td>\n",
       "      <td>197.892792</td>\n",
       "      <td>7.394403</td>\n",
       "    </tr>\n",
       "    <tr>\n",
       "      <th>3</th>\n",
       "      <td>0.915907</td>\n",
       "      <td>191.477264</td>\n",
       "      <td>6.390359</td>\n",
       "    </tr>\n",
       "    <tr>\n",
       "      <th>4</th>\n",
       "      <td>0.937113</td>\n",
       "      <td>129.794434</td>\n",
       "      <td>6.254782</td>\n",
       "    </tr>\n",
       "  </tbody>\n",
       "</table>\n",
       "</div>"
      ],
      "text/plain": [
       "         r2        rmse       mae\n",
       "0  0.912057  159.574326  6.375999\n",
       "1  0.924542  165.498444  6.509373\n",
       "2  0.898632  197.892792  7.394403\n",
       "3  0.915907  191.477264  6.390359\n",
       "4  0.937113  129.794434  6.254782"
      ]
     },
     "execution_count": 42,
     "metadata": {},
     "output_type": "execute_result"
    }
   ],
   "source": [
    "compute_model_score(xgb, X_train, y_train)"
   ]
  },
  {
   "cell_type": "code",
   "execution_count": 43,
   "id": "38e9be13",
   "metadata": {},
   "outputs": [
    {
     "name": "stdout",
     "output_type": "stream",
     "text": [
      "Mean R² : 0.8963821928164348\n",
      "Mean rmse : 0.002035491650741608\n",
      "Mean mae : 0.02299086559432282\n"
     ]
    },
    {
     "data": {
      "text/html": [
       "<div>\n",
       "<style scoped>\n",
       "    .dataframe tbody tr th:only-of-type {\n",
       "        vertical-align: middle;\n",
       "    }\n",
       "\n",
       "    .dataframe tbody tr th {\n",
       "        vertical-align: top;\n",
       "    }\n",
       "\n",
       "    .dataframe thead th {\n",
       "        text-align: right;\n",
       "    }\n",
       "</style>\n",
       "<table border=\"1\" class=\"dataframe\">\n",
       "  <thead>\n",
       "    <tr style=\"text-align: right;\">\n",
       "      <th></th>\n",
       "      <th>r2</th>\n",
       "      <th>rmse</th>\n",
       "      <th>mae</th>\n",
       "    </tr>\n",
       "  </thead>\n",
       "  <tbody>\n",
       "    <tr>\n",
       "      <th>0</th>\n",
       "      <td>0.856326</td>\n",
       "      <td>0.002631</td>\n",
       "      <td>0.023182</td>\n",
       "    </tr>\n",
       "    <tr>\n",
       "      <th>1</th>\n",
       "      <td>0.926804</td>\n",
       "      <td>0.001228</td>\n",
       "      <td>0.020285</td>\n",
       "    </tr>\n",
       "    <tr>\n",
       "      <th>2</th>\n",
       "      <td>0.908363</td>\n",
       "      <td>0.001959</td>\n",
       "      <td>0.025132</td>\n",
       "    </tr>\n",
       "    <tr>\n",
       "      <th>3</th>\n",
       "      <td>0.912120</td>\n",
       "      <td>0.002278</td>\n",
       "      <td>0.023236</td>\n",
       "    </tr>\n",
       "    <tr>\n",
       "      <th>4</th>\n",
       "      <td>0.878298</td>\n",
       "      <td>0.002081</td>\n",
       "      <td>0.023120</td>\n",
       "    </tr>\n",
       "  </tbody>\n",
       "</table>\n",
       "</div>"
      ],
      "text/plain": [
       "         r2      rmse       mae\n",
       "0  0.856326  0.002631  0.023182\n",
       "1  0.926804  0.001228  0.020285\n",
       "2  0.908363  0.001959  0.025132\n",
       "3  0.912120  0.002278  0.023236\n",
       "4  0.878298  0.002081  0.023120"
      ]
     },
     "execution_count": 43,
     "metadata": {},
     "output_type": "execute_result"
    }
   ],
   "source": [
    "compute_model_score(lr, X_test, y_test)"
   ]
  },
  {
   "cell_type": "code",
   "execution_count": 44,
   "id": "ce4277ba",
   "metadata": {},
   "outputs": [
    {
     "name": "stdout",
     "output_type": "stream",
     "text": [
      "Mean R² : 0.8029023051261902\n",
      "Mean rmse : 1200.3483276367188\n",
      "Mean mae : 19.2870512008667\n"
     ]
    },
    {
     "data": {
      "text/html": [
       "<div>\n",
       "<style scoped>\n",
       "    .dataframe tbody tr th:only-of-type {\n",
       "        vertical-align: middle;\n",
       "    }\n",
       "\n",
       "    .dataframe tbody tr th {\n",
       "        vertical-align: top;\n",
       "    }\n",
       "\n",
       "    .dataframe thead th {\n",
       "        text-align: right;\n",
       "    }\n",
       "</style>\n",
       "<table border=\"1\" class=\"dataframe\">\n",
       "  <thead>\n",
       "    <tr style=\"text-align: right;\">\n",
       "      <th></th>\n",
       "      <th>r2</th>\n",
       "      <th>rmse</th>\n",
       "      <th>mae</th>\n",
       "    </tr>\n",
       "  </thead>\n",
       "  <tbody>\n",
       "    <tr>\n",
       "      <th>0</th>\n",
       "      <td>0.733533</td>\n",
       "      <td>1237.517456</td>\n",
       "      <td>17.663464</td>\n",
       "    </tr>\n",
       "    <tr>\n",
       "      <th>1</th>\n",
       "      <td>0.758514</td>\n",
       "      <td>2084.174561</td>\n",
       "      <td>28.946243</td>\n",
       "    </tr>\n",
       "    <tr>\n",
       "      <th>2</th>\n",
       "      <td>0.822813</td>\n",
       "      <td>610.851624</td>\n",
       "      <td>13.185892</td>\n",
       "    </tr>\n",
       "    <tr>\n",
       "      <th>3</th>\n",
       "      <td>0.903798</td>\n",
       "      <td>621.112061</td>\n",
       "      <td>14.762425</td>\n",
       "    </tr>\n",
       "    <tr>\n",
       "      <th>4</th>\n",
       "      <td>0.795854</td>\n",
       "      <td>1448.085938</td>\n",
       "      <td>21.877232</td>\n",
       "    </tr>\n",
       "  </tbody>\n",
       "</table>\n",
       "</div>"
      ],
      "text/plain": [
       "         r2         rmse        mae\n",
       "0  0.733533  1237.517456  17.663464\n",
       "1  0.758514  2084.174561  28.946243\n",
       "2  0.822813   610.851624  13.185892\n",
       "3  0.903798   621.112061  14.762425\n",
       "4  0.795854  1448.085938  21.877232"
      ]
     },
     "execution_count": 44,
     "metadata": {},
     "output_type": "execute_result"
    }
   ],
   "source": [
    "compute_model_score(xgb, X_test, y_test)"
   ]
  },
  {
   "cell_type": "markdown",
   "id": "5c02f038",
   "metadata": {},
   "source": [
    "**Choix :**  \n",
    "Mon chois se tourne vers le modèle `LinearRegression` qui réalise le meilleur compromis :  \n",
    "* **performance/généralisation**"
   ]
  },
  {
   "cell_type": "markdown",
   "id": "b697bac3",
   "metadata": {},
   "source": []
  },
  {
   "cell_type": "code",
   "execution_count": 45,
   "id": "109418fa",
   "metadata": {},
   "outputs": [
    {
     "data": {
      "text/plain": [
       "0.9143355243889344"
      ]
     },
     "execution_count": 45,
     "metadata": {},
     "output_type": "execute_result"
    }
   ],
   "source": [
    "lr.fit(X_train, y_train)\n",
    "y_train_pred = lr.predict(X_train)\n",
    "\n",
    "score = r2_score(y_train, y_train_pred)\n",
    "score"
   ]
  },
  {
   "cell_type": "code",
   "execution_count": 46,
   "id": "44de2d00",
   "metadata": {},
   "outputs": [
    {
     "data": {
      "text/plain": [
       "0.9002530119468029"
      ]
     },
     "execution_count": 46,
     "metadata": {},
     "output_type": "execute_result"
    }
   ],
   "source": [
    "y_pred = lr.predict(X_test)\n",
    "\n",
    "score_test = r2_score(y_pred, y_test)\n",
    "score_test"
   ]
  },
  {
   "cell_type": "code",
   "execution_count": 47,
   "id": "19b6ebb8",
   "metadata": {},
   "outputs": [
    {
     "data": {
      "text/plain": [
       "Unnamed: 0                  361.000000\n",
       "quant__gre_score              1.576604\n",
       "quant__toefl_score            1.424271\n",
       "quant__university_rating      0.775459\n",
       "quant__sop                    0.633979\n",
       "quant__lor                    0.021730\n",
       "quant__cgpa                   1.597217\n",
       "bin__research                 1.000000\n",
       "Name: 0, dtype: float64"
      ]
     },
     "execution_count": 47,
     "metadata": {},
     "output_type": "execute_result"
    }
   ],
   "source": [
    "X_test.iloc[0]"
   ]
  },
  {
   "cell_type": "code",
   "execution_count": null,
   "id": "a47c3aaa",
   "metadata": {},
   "outputs": [],
   "source": [
    "[1.576604, 1.424271, ]"
   ]
  }
 ],
 "metadata": {
  "kernelspec": {
   "display_name": "bentoml-env",
   "language": "python",
   "name": "python3"
  },
  "language_info": {
   "codemirror_mode": {
    "name": "ipython",
    "version": 3
   },
   "file_extension": ".py",
   "mimetype": "text/x-python",
   "name": "python",
   "nbconvert_exporter": "python",
   "pygments_lexer": "ipython3",
   "version": "3.11.13"
  }
 },
 "nbformat": 4,
 "nbformat_minor": 5
}
